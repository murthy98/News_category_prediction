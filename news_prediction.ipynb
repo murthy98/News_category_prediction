{
 "cells": [
  {
   "cell_type": "markdown",
   "metadata": {},
   "source": [
    "<h1>News Category Prediction</h6>\n",
    "\n",
    "<b></b>\n",
    "<h3>Importing required libraries:</h3>\n",
    "    <p>The required libraries to solve the news category prediction algorithm are imported in the below section</p>"
   ]
  },
  {
   "cell_type": "code",
   "execution_count": 1,
   "metadata": {},
   "outputs": [],
   "source": [
    "import pandas as pd\n",
    "import numpy as np\n",
    "from sklearn.model_selection import train_test_split\n",
    "from sklearn.linear_model import LogisticRegression\n",
    "from sklearn.feature_extraction.text import CountVectorizer"
   ]
  },
  {
   "cell_type": "markdown",
   "metadata": {},
   "source": [
    "<h3>Reading the data from dataset:</h3>\n",
    "<p> In this section we read the data from them the <strong>News_Category_Dataset.json </strong>  file then we drop some fields and we convert the text data in the given dataset to the numeric format by using <strong> CountVectorizer</strong>.</p>"
   ]
  },
  {
   "cell_type": "code",
   "execution_count": 2,
   "metadata": {},
   "outputs": [],
   "source": [
    "text=pd.read_json(\"News_Category_Dataset.json\",lines=True)\n",
    "text.drop(['link','date'], 1, inplace=True)\n",
    "df=text\n",
    "df=np.array(df)\n",
    "tfidfvec = CountVectorizer(analyzer='word', ngram_range = (1,1),min_df = 1, max_features= 4)\n",
    "tfidfdata = tfidfvec.fit_transform(df.ravel())"
   ]
  },
  {
   "cell_type": "markdown",
   "metadata": {},
   "source": [
    "<h3>Train Test Split:</h3>\n",
    "<p>In this section we read the features into <strong>X</strong> and target into <strong>y</strong> and then split the X and y into Train data and Test data.</p>"
   ]
  },
  {
   "cell_type": "code",
   "execution_count": 3,
   "metadata": {},
   "outputs": [],
   "source": [
    "df=pd.DataFrame(tfidfdata.todense())\n",
    "X = np.array(df.drop([1],1))\n",
    "X=pd.DataFrame(X)\n",
    "y = np.array(df[1])\n",
    "X_train, X_test, y_train, y_test = train_test_split(X, y, test_size=0.33, random_state=42)"
   ]
  },
  {
   "cell_type": "markdown",
   "metadata": {},
   "source": [
    "<h3>Logistic Regression:</h3>\n",
    "<p>In this sectin we implement <strong>Logistic Regression</strong> algorithm by using the train data and test the score with test data.</p> "
   ]
  },
  {
   "cell_type": "code",
   "execution_count": 7,
   "metadata": {},
   "outputs": [
    {
     "name": "stdout",
     "output_type": "stream",
     "text": [
      "0.875522771629108\n"
     ]
    }
   ],
   "source": [
    "clf = LogisticRegression(solver='lbfgs')\n",
    "clf.fit(X_train,y_train)\n",
    "y_pred=clf.predict(X_test)\n",
    "y_pred=clf.predict_proba(X_test) \n",
    "\n",
    "print(clf.score(X_test, y_test))\n"
   ]
  },
  {
   "cell_type": "markdown",
   "metadata": {},
   "source": [
    "<h3>Conclusion</h3>\n",
    "     <p>Finally we are concluded the prediction with the score value of <strong> 0.876 </strong>.</p>"
   ]
  }
 ],
 "metadata": {
  "kernelspec": {
   "display_name": "Python 3",
   "language": "python",
   "name": "python3"
  },
  "language_info": {
   "codemirror_mode": {
    "name": "ipython",
    "version": 2
   },
   "file_extension": ".py",
   "mimetype": "text/x-python",
   "name": "python",
   "nbconvert_exporter": "python",
   "pygments_lexer": "ipython2",
   "version": "2.7.15rc1"
  }
 },
 "nbformat": 4,
 "nbformat_minor": 2
}
